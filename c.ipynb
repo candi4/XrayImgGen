{
 "cells": [
  {
   "cell_type": "code",
   "execution_count": 2,
   "metadata": {},
   "outputs": [
    {
     "name": "stdout",
     "output_type": "stream",
     "text": [
      "input\n"
     ]
    }
   ],
   "source": [
    "# %%\n",
    "import open3d as o3d\n",
    "import numpy as np\n",
    "\n",
    "print('input')\n",
    "mesh = o3d.io.read_triangle_mesh(r'C:\\Users\\82105\\Dropbox\\석사과정\\과제\\02. 아산병원 카테터 시술로봇 원격제어 햅틱피드백\\2024상반기\\회사교류\\240830 심박동기모델\\MICRA_Assy_Inventor/파트11.stl')\n",
    "\n",
    "# # fit to unit cube\n",
    "# print(np.max(mesh.get_max_bound() - mesh.get_min_bound()))\n",
    "# # mesh.scale(100 / np.max(mesh.get_max_bound() - mesh.get_min_bound()),\n",
    "# #            center=mesh.get_center())\n",
    "o3d.visualization.draw_geometries([mesh])\n"
   ]
  },
  {
   "cell_type": "code",
   "execution_count": 3,
   "metadata": {},
   "outputs": [
    {
     "name": "stdout",
     "output_type": "stream",
     "text": [
      "voxelization\n"
     ]
    }
   ],
   "source": [
    "\n",
    "# %%\n",
    "print('voxelization')\n",
    "voxel_grid = o3d.geometry.VoxelGrid.create_from_triangle_mesh(mesh,\n",
    "                                                              voxel_size=0.05)\n",
    "o3d.visualization.draw_geometries([voxel_grid])\n",
    "# %%"
   ]
  },
  {
   "cell_type": "code",
   "execution_count": 7,
   "metadata": {},
   "outputs": [
    {
     "data": {
      "text/plain": [
       "True"
      ]
     },
     "execution_count": 7,
     "metadata": {},
     "output_type": "execute_result"
    }
   ],
   "source": [
    "o3d.io.write_voxel_grid('output.ply',voxel_grid)"
   ]
  },
  {
   "cell_type": "code",
   "execution_count": null,
   "metadata": {},
   "outputs": [],
   "source": []
  }
 ],
 "metadata": {
  "kernelspec": {
   "display_name": "xray",
   "language": "python",
   "name": "python3"
  },
  "language_info": {
   "codemirror_mode": {
    "name": "ipython",
    "version": 3
   },
   "file_extension": ".py",
   "mimetype": "text/x-python",
   "name": "python",
   "nbconvert_exporter": "python",
   "pygments_lexer": "ipython3",
   "version": "3.10.15"
  }
 },
 "nbformat": 4,
 "nbformat_minor": 2
}
